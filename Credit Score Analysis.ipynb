{
  "nbformat": 4,
  "nbformat_minor": 0,
  "metadata": {
    "colab": {
      "provenance": []
    },
    "kernelspec": {
      "name": "python3",
      "display_name": "Python 3"
    },
    "language_info": {
      "name": "python"
    }
  },
  "cells": [
    {
      "cell_type": "code",
      "execution_count": null,
      "metadata": {
        "id": "slTohnc8EsiS",
        "colab": {
          "base_uri": "https://localhost:8080/"
        },
        "outputId": "d5f90471-13c3-4cf1-9f92-18682f2ea4fd"
      },
      "outputs": [
        {
          "output_type": "stream",
          "name": "stdout",
          "text": [
            "Looking in indexes: https://pypi.org/simple, https://us-python.pkg.dev/colab-wheels/public/simple/\n",
            "Requirement already satisfied: category_encoders in /usr/local/lib/python3.9/dist-packages (2.6.0)\n",
            "Requirement already satisfied: pandas>=1.0.5 in /usr/local/lib/python3.9/dist-packages (from category_encoders) (1.4.4)\n",
            "Requirement already satisfied: scikit-learn>=0.20.0 in /usr/local/lib/python3.9/dist-packages (from category_encoders) (1.2.2)\n",
            "Requirement already satisfied: patsy>=0.5.1 in /usr/local/lib/python3.9/dist-packages (from category_encoders) (0.5.3)\n",
            "Requirement already satisfied: numpy>=1.14.0 in /usr/local/lib/python3.9/dist-packages (from category_encoders) (1.22.4)\n",
            "Requirement already satisfied: statsmodels>=0.9.0 in /usr/local/lib/python3.9/dist-packages (from category_encoders) (0.13.5)\n",
            "Requirement already satisfied: scipy>=1.0.0 in /usr/local/lib/python3.9/dist-packages (from category_encoders) (1.10.1)\n",
            "Requirement already satisfied: pytz>=2020.1 in /usr/local/lib/python3.9/dist-packages (from pandas>=1.0.5->category_encoders) (2022.7.1)\n",
            "Requirement already satisfied: python-dateutil>=2.8.1 in /usr/local/lib/python3.9/dist-packages (from pandas>=1.0.5->category_encoders) (2.8.2)\n",
            "Requirement already satisfied: six in /usr/local/lib/python3.9/dist-packages (from patsy>=0.5.1->category_encoders) (1.15.0)\n",
            "Requirement already satisfied: threadpoolctl>=2.0.0 in /usr/local/lib/python3.9/dist-packages (from scikit-learn>=0.20.0->category_encoders) (3.1.0)\n",
            "Requirement already satisfied: joblib>=1.1.1 in /usr/local/lib/python3.9/dist-packages (from scikit-learn>=0.20.0->category_encoders) (1.1.1)\n",
            "Requirement already satisfied: packaging>=21.3 in /usr/local/lib/python3.9/dist-packages (from statsmodels>=0.9.0->category_encoders) (23.0)\n"
          ]
        }
      ],
      "source": [
        "!pip install category_encoders"
      ]
    },
    {
      "cell_type": "code",
      "source": [
        "import pandas as pd \n",
        "import numpy as np\n",
        "from sklearn.ensemble import RandomForestClassifier\n",
        "import category_encoders as ce\n",
        "from sklearn.feature_selection import SelectKBest\n",
        "from sklearn.feature_selection import f_classif\n",
        "from sklearn.metrics import accuracy_score,f1_score\n",
        "from sklearn.metrics import classification_report\n",
        "from sklearn.model_selection import StratifiedKFold\n",
        "from sklearn.feature_selection import SelectKBest\n",
        "from sklearn.feature_selection import f_classif"
      ],
      "metadata": {
        "id": "tWvDSe_9E7FM"
      },
      "execution_count": null,
      "outputs": []
    },
    {
      "cell_type": "code",
      "source": [
        "#Read the data set\n",
        "data=pd.read_csv(\"/content/credit_score.csv\")\n",
        "data.shape"
      ],
      "metadata": {
        "id": "uJgduWCtFIdh",
        "colab": {
          "base_uri": "https://localhost:8080/"
        },
        "outputId": "35fd7510-608b-4f85-b532-9917f4e610b7"
      },
      "execution_count": null,
      "outputs": [
        {
          "output_type": "execute_result",
          "data": {
            "text/plain": [
              "(100000, 28)"
            ]
          },
          "metadata": {},
          "execution_count": 4
        }
      ]
    },
    {
      "cell_type": "code",
      "source": [
        "#Find the outliers\n",
        "def find_outliers_IQR(df):\n",
        "   q1=df.quantile(0.25)\n",
        "   q3=df.quantile(0.75)\n",
        "   IQR=q3-q1\n",
        "   outliers = df[((df<(q1-1.5*IQR)) | (df>(q3+1.5*IQR)))]\n",
        "   return outliers"
      ],
      "metadata": {
        "id": "n6vxIgmRFLyO"
      },
      "execution_count": null,
      "outputs": []
    },
    {
      "cell_type": "code",
      "source": [
        "#Set the upper limit and the lower limit for the outliers\n",
        "q1=data.quantile(0.25)\n",
        "q3=data.quantile(0.75)\n",
        "IQR=q3-q1\n",
        "data1= data.select_dtypes(include=['float', 'int'])\n",
        "upper_lim=q3+1.5*IQR\n",
        "lower_lim=q1-1.5*IQR"
      ],
      "metadata": {
        "id": "4C4jGy2TFLrK"
      },
      "execution_count": null,
      "outputs": []
    },
    {
      "cell_type": "code",
      "source": [
        "#replace the outliers with their new values\n",
        "for i in range(21):\n",
        "    data1.iloc[:,i]=np.where(data1.iloc[:,i]>upper_lim[i],upper_lim[i],np.where(data1.iloc[:,i]<lower_lim[i],lower_lim[i],data1.iloc[:,i]))"
      ],
      "metadata": {
        "id": "c-U-cmL-Fv54"
      },
      "execution_count": null,
      "outputs": []
    },
    {
      "cell_type": "code",
      "source": [
        "#merge the data set \n",
        "merged_data=pd.merge(data,data1,on=['ID','Customer_ID','Month','Age','SSN','Annual_Income', 'Monthly_Inhand_Salary', \n",
        "'Num_Bank_Accounts','Num_Credit_Card', 'Interest_Rate', 'Num_of_Loan','Delay_from_due_date', 'Num_of_Delayed_Payment',\n",
        "'Changed_Credit_Limit','Num_Credit_Inquiries','Outstanding_Debt', 'Credit_Utilization_Ratio', 'Credit_History_Age',\n",
        "'Total_EMI_per_month', 'Amount_invested_monthly',\n",
        "'Monthly_Balance'],how='left')"
      ],
      "metadata": {
        "id": "zP09-AvzFvts"
      },
      "execution_count": null,
      "outputs": []
    },
    {
      "cell_type": "code",
      "source": [
        "#drop unnecessary features like ID ,Name...\n",
        "merged_data.drop(['ID','Customer_ID','SSN','Name'],axis=1,inplace=True)"
      ],
      "metadata": {
        "id": "e6Hc9UfVFvm5"
      },
      "execution_count": null,
      "outputs": []
    },
    {
      "cell_type": "code",
      "source": [
        "merged_data['Credit_Score'].value_counts()"
      ],
      "metadata": {
        "colab": {
          "base_uri": "https://localhost:8080/"
        },
        "id": "Gj_SjvjFFvby",
        "outputId": "85978905-80f4-4f6f-cc3e-cef62091f6e0"
      },
      "execution_count": null,
      "outputs": [
        {
          "output_type": "execute_result",
          "data": {
            "text/plain": [
              "Standard    53174\n",
              "Poor        28998\n",
              "Good        17828\n",
              "Name: Credit_Score, dtype: int64"
            ]
          },
          "metadata": {},
          "execution_count": 10
        }
      ]
    },
    {
      "cell_type": "code",
      "source": [
        "df=merged_data.copy()"
      ],
      "metadata": {
        "id": "gFH4IQTpF9a3"
      },
      "execution_count": null,
      "outputs": []
    },
    {
      "cell_type": "code",
      "source": [
        "#Binary encoding\n",
        "str_col=[\"Occupation\",\"Type_of_Loan\",\"Credit_Mix\",\"Payment_of_Min_Amount\",\"Payment_Behaviour\"]\n",
        "encoder= ce.BinaryEncoder(cols=str_col,return_df=True)\n",
        "data_encoded=encoder.fit_transform(df)\n",
        "data_encoded"
      ],
      "metadata": {
        "colab": {
          "base_uri": "https://localhost:8080/",
          "height": 487
        },
        "id": "mwdg_EfKGM80",
        "outputId": "980eb7b8-b69a-459e-aaf8-c798e003fc85"
      },
      "execution_count": null,
      "outputs": [
        {
          "output_type": "execute_result",
          "data": {
            "text/plain": [
              "       Month   Age  Occupation_0  Occupation_1  Occupation_2  Occupation_3  \\\n",
              "0          1  23.0             0             0             0             1   \n",
              "1          2  23.0             0             0             0             1   \n",
              "2          3  23.0             0             0             0             1   \n",
              "3          4  23.0             0             0             0             1   \n",
              "4          5  23.0             0             0             0             1   \n",
              "...      ...   ...           ...           ...           ...           ...   \n",
              "99995      4  25.0             1             1             0             1   \n",
              "99996      5  25.0             1             1             0             1   \n",
              "99997      6  25.0             1             1             0             1   \n",
              "99998      7  25.0             1             1             0             1   \n",
              "99999      8  25.0             1             1             0             1   \n",
              "\n",
              "       Annual_Income  Monthly_Inhand_Salary  Num_Bank_Accounts  \\\n",
              "0           19114.12            1824.843333                3.0   \n",
              "1           19114.12            1824.843333                3.0   \n",
              "2           19114.12            1824.843333                3.0   \n",
              "3           19114.12            1824.843333                3.0   \n",
              "4           19114.12            1824.843333                3.0   \n",
              "...              ...                    ...                ...   \n",
              "99995       39628.99            3359.415833                4.0   \n",
              "99996       39628.99            3359.415833                4.0   \n",
              "99997       39628.99            3359.415833                4.0   \n",
              "99998       39628.99            3359.415833                4.0   \n",
              "99999       39628.99            3359.415833                4.0   \n",
              "\n",
              "       Num_Credit_Card  ...  Credit_History_Age  Payment_of_Min_Amount_0  \\\n",
              "0                  4.0  ...               265.0                        0   \n",
              "1                  4.0  ...               266.0                        0   \n",
              "2                  4.0  ...               267.0                        0   \n",
              "3                  4.0  ...               268.0                        0   \n",
              "4                  4.0  ...               269.0                        0   \n",
              "...                ...  ...                 ...                      ...   \n",
              "99995              6.0  ...               378.0                        0   \n",
              "99996              6.0  ...               379.0                        0   \n",
              "99997              6.0  ...               380.0                        0   \n",
              "99998              6.0  ...               381.0                        0   \n",
              "99999              6.0  ...               382.0                        0   \n",
              "\n",
              "       Payment_of_Min_Amount_1  Total_EMI_per_month  Amount_invested_monthly  \\\n",
              "0                            1            49.574949                21.465380   \n",
              "1                            1            49.574949                21.465380   \n",
              "2                            1            49.574949                21.465380   \n",
              "3                            1            49.574949                21.465380   \n",
              "4                            1            49.574949                21.465380   \n",
              "...                        ...                  ...                      ...   \n",
              "99995                        1            35.104023                24.028477   \n",
              "99996                        1            35.104023                24.028477   \n",
              "99997                        1            35.104023                24.028477   \n",
              "99998                        1            35.104023                24.028477   \n",
              "99999                        1            35.104023                24.028477   \n",
              "\n",
              "       Payment_Behaviour_0  Payment_Behaviour_1  Payment_Behaviour_2  \\\n",
              "0                        0                    0                    1   \n",
              "1                        0                    1                    0   \n",
              "2                        0                    1                    1   \n",
              "3                        1                    0                    0   \n",
              "4                        1                    0                    1   \n",
              "...                    ...                  ...                  ...   \n",
              "99995                    1                    1                    0   \n",
              "99996                    1                    0                    1   \n",
              "99997                    1                    1                    0   \n",
              "99998                    0                    1                    0   \n",
              "99999                    1                    0                    1   \n",
              "\n",
              "       Monthly_Balance  Credit_Score  \n",
              "0           312.494089          Good  \n",
              "1           284.629162          Good  \n",
              "2           331.209863          Good  \n",
              "3           223.451310          Good  \n",
              "4           341.489231          Good  \n",
              "...                ...           ...  \n",
              "99995       479.866228          Poor  \n",
              "99996       496.651610          Poor  \n",
              "99997       516.809083          Poor  \n",
              "99998       319.164979      Standard  \n",
              "99999       393.673696          Poor  \n",
              "\n",
              "[100000 rows x 43 columns]"
            ],
            "text/html": [
              "\n",
              "  <div id=\"df-6af96f7d-5a25-4ffe-b1f8-523c98ab87c5\">\n",
              "    <div class=\"colab-df-container\">\n",
              "      <div>\n",
              "<style scoped>\n",
              "    .dataframe tbody tr th:only-of-type {\n",
              "        vertical-align: middle;\n",
              "    }\n",
              "\n",
              "    .dataframe tbody tr th {\n",
              "        vertical-align: top;\n",
              "    }\n",
              "\n",
              "    .dataframe thead th {\n",
              "        text-align: right;\n",
              "    }\n",
              "</style>\n",
              "<table border=\"1\" class=\"dataframe\">\n",
              "  <thead>\n",
              "    <tr style=\"text-align: right;\">\n",
              "      <th></th>\n",
              "      <th>Month</th>\n",
              "      <th>Age</th>\n",
              "      <th>Occupation_0</th>\n",
              "      <th>Occupation_1</th>\n",
              "      <th>Occupation_2</th>\n",
              "      <th>Occupation_3</th>\n",
              "      <th>Annual_Income</th>\n",
              "      <th>Monthly_Inhand_Salary</th>\n",
              "      <th>Num_Bank_Accounts</th>\n",
              "      <th>Num_Credit_Card</th>\n",
              "      <th>...</th>\n",
              "      <th>Credit_History_Age</th>\n",
              "      <th>Payment_of_Min_Amount_0</th>\n",
              "      <th>Payment_of_Min_Amount_1</th>\n",
              "      <th>Total_EMI_per_month</th>\n",
              "      <th>Amount_invested_monthly</th>\n",
              "      <th>Payment_Behaviour_0</th>\n",
              "      <th>Payment_Behaviour_1</th>\n",
              "      <th>Payment_Behaviour_2</th>\n",
              "      <th>Monthly_Balance</th>\n",
              "      <th>Credit_Score</th>\n",
              "    </tr>\n",
              "  </thead>\n",
              "  <tbody>\n",
              "    <tr>\n",
              "      <th>0</th>\n",
              "      <td>1</td>\n",
              "      <td>23.0</td>\n",
              "      <td>0</td>\n",
              "      <td>0</td>\n",
              "      <td>0</td>\n",
              "      <td>1</td>\n",
              "      <td>19114.12</td>\n",
              "      <td>1824.843333</td>\n",
              "      <td>3.0</td>\n",
              "      <td>4.0</td>\n",
              "      <td>...</td>\n",
              "      <td>265.0</td>\n",
              "      <td>0</td>\n",
              "      <td>1</td>\n",
              "      <td>49.574949</td>\n",
              "      <td>21.465380</td>\n",
              "      <td>0</td>\n",
              "      <td>0</td>\n",
              "      <td>1</td>\n",
              "      <td>312.494089</td>\n",
              "      <td>Good</td>\n",
              "    </tr>\n",
              "    <tr>\n",
              "      <th>1</th>\n",
              "      <td>2</td>\n",
              "      <td>23.0</td>\n",
              "      <td>0</td>\n",
              "      <td>0</td>\n",
              "      <td>0</td>\n",
              "      <td>1</td>\n",
              "      <td>19114.12</td>\n",
              "      <td>1824.843333</td>\n",
              "      <td>3.0</td>\n",
              "      <td>4.0</td>\n",
              "      <td>...</td>\n",
              "      <td>266.0</td>\n",
              "      <td>0</td>\n",
              "      <td>1</td>\n",
              "      <td>49.574949</td>\n",
              "      <td>21.465380</td>\n",
              "      <td>0</td>\n",
              "      <td>1</td>\n",
              "      <td>0</td>\n",
              "      <td>284.629162</td>\n",
              "      <td>Good</td>\n",
              "    </tr>\n",
              "    <tr>\n",
              "      <th>2</th>\n",
              "      <td>3</td>\n",
              "      <td>23.0</td>\n",
              "      <td>0</td>\n",
              "      <td>0</td>\n",
              "      <td>0</td>\n",
              "      <td>1</td>\n",
              "      <td>19114.12</td>\n",
              "      <td>1824.843333</td>\n",
              "      <td>3.0</td>\n",
              "      <td>4.0</td>\n",
              "      <td>...</td>\n",
              "      <td>267.0</td>\n",
              "      <td>0</td>\n",
              "      <td>1</td>\n",
              "      <td>49.574949</td>\n",
              "      <td>21.465380</td>\n",
              "      <td>0</td>\n",
              "      <td>1</td>\n",
              "      <td>1</td>\n",
              "      <td>331.209863</td>\n",
              "      <td>Good</td>\n",
              "    </tr>\n",
              "    <tr>\n",
              "      <th>3</th>\n",
              "      <td>4</td>\n",
              "      <td>23.0</td>\n",
              "      <td>0</td>\n",
              "      <td>0</td>\n",
              "      <td>0</td>\n",
              "      <td>1</td>\n",
              "      <td>19114.12</td>\n",
              "      <td>1824.843333</td>\n",
              "      <td>3.0</td>\n",
              "      <td>4.0</td>\n",
              "      <td>...</td>\n",
              "      <td>268.0</td>\n",
              "      <td>0</td>\n",
              "      <td>1</td>\n",
              "      <td>49.574949</td>\n",
              "      <td>21.465380</td>\n",
              "      <td>1</td>\n",
              "      <td>0</td>\n",
              "      <td>0</td>\n",
              "      <td>223.451310</td>\n",
              "      <td>Good</td>\n",
              "    </tr>\n",
              "    <tr>\n",
              "      <th>4</th>\n",
              "      <td>5</td>\n",
              "      <td>23.0</td>\n",
              "      <td>0</td>\n",
              "      <td>0</td>\n",
              "      <td>0</td>\n",
              "      <td>1</td>\n",
              "      <td>19114.12</td>\n",
              "      <td>1824.843333</td>\n",
              "      <td>3.0</td>\n",
              "      <td>4.0</td>\n",
              "      <td>...</td>\n",
              "      <td>269.0</td>\n",
              "      <td>0</td>\n",
              "      <td>1</td>\n",
              "      <td>49.574949</td>\n",
              "      <td>21.465380</td>\n",
              "      <td>1</td>\n",
              "      <td>0</td>\n",
              "      <td>1</td>\n",
              "      <td>341.489231</td>\n",
              "      <td>Good</td>\n",
              "    </tr>\n",
              "    <tr>\n",
              "      <th>...</th>\n",
              "      <td>...</td>\n",
              "      <td>...</td>\n",
              "      <td>...</td>\n",
              "      <td>...</td>\n",
              "      <td>...</td>\n",
              "      <td>...</td>\n",
              "      <td>...</td>\n",
              "      <td>...</td>\n",
              "      <td>...</td>\n",
              "      <td>...</td>\n",
              "      <td>...</td>\n",
              "      <td>...</td>\n",
              "      <td>...</td>\n",
              "      <td>...</td>\n",
              "      <td>...</td>\n",
              "      <td>...</td>\n",
              "      <td>...</td>\n",
              "      <td>...</td>\n",
              "      <td>...</td>\n",
              "      <td>...</td>\n",
              "      <td>...</td>\n",
              "    </tr>\n",
              "    <tr>\n",
              "      <th>99995</th>\n",
              "      <td>4</td>\n",
              "      <td>25.0</td>\n",
              "      <td>1</td>\n",
              "      <td>1</td>\n",
              "      <td>0</td>\n",
              "      <td>1</td>\n",
              "      <td>39628.99</td>\n",
              "      <td>3359.415833</td>\n",
              "      <td>4.0</td>\n",
              "      <td>6.0</td>\n",
              "      <td>...</td>\n",
              "      <td>378.0</td>\n",
              "      <td>0</td>\n",
              "      <td>1</td>\n",
              "      <td>35.104023</td>\n",
              "      <td>24.028477</td>\n",
              "      <td>1</td>\n",
              "      <td>1</td>\n",
              "      <td>0</td>\n",
              "      <td>479.866228</td>\n",
              "      <td>Poor</td>\n",
              "    </tr>\n",
              "    <tr>\n",
              "      <th>99996</th>\n",
              "      <td>5</td>\n",
              "      <td>25.0</td>\n",
              "      <td>1</td>\n",
              "      <td>1</td>\n",
              "      <td>0</td>\n",
              "      <td>1</td>\n",
              "      <td>39628.99</td>\n",
              "      <td>3359.415833</td>\n",
              "      <td>4.0</td>\n",
              "      <td>6.0</td>\n",
              "      <td>...</td>\n",
              "      <td>379.0</td>\n",
              "      <td>0</td>\n",
              "      <td>1</td>\n",
              "      <td>35.104023</td>\n",
              "      <td>24.028477</td>\n",
              "      <td>1</td>\n",
              "      <td>0</td>\n",
              "      <td>1</td>\n",
              "      <td>496.651610</td>\n",
              "      <td>Poor</td>\n",
              "    </tr>\n",
              "    <tr>\n",
              "      <th>99997</th>\n",
              "      <td>6</td>\n",
              "      <td>25.0</td>\n",
              "      <td>1</td>\n",
              "      <td>1</td>\n",
              "      <td>0</td>\n",
              "      <td>1</td>\n",
              "      <td>39628.99</td>\n",
              "      <td>3359.415833</td>\n",
              "      <td>4.0</td>\n",
              "      <td>6.0</td>\n",
              "      <td>...</td>\n",
              "      <td>380.0</td>\n",
              "      <td>0</td>\n",
              "      <td>1</td>\n",
              "      <td>35.104023</td>\n",
              "      <td>24.028477</td>\n",
              "      <td>1</td>\n",
              "      <td>1</td>\n",
              "      <td>0</td>\n",
              "      <td>516.809083</td>\n",
              "      <td>Poor</td>\n",
              "    </tr>\n",
              "    <tr>\n",
              "      <th>99998</th>\n",
              "      <td>7</td>\n",
              "      <td>25.0</td>\n",
              "      <td>1</td>\n",
              "      <td>1</td>\n",
              "      <td>0</td>\n",
              "      <td>1</td>\n",
              "      <td>39628.99</td>\n",
              "      <td>3359.415833</td>\n",
              "      <td>4.0</td>\n",
              "      <td>6.0</td>\n",
              "      <td>...</td>\n",
              "      <td>381.0</td>\n",
              "      <td>0</td>\n",
              "      <td>1</td>\n",
              "      <td>35.104023</td>\n",
              "      <td>24.028477</td>\n",
              "      <td>0</td>\n",
              "      <td>1</td>\n",
              "      <td>0</td>\n",
              "      <td>319.164979</td>\n",
              "      <td>Standard</td>\n",
              "    </tr>\n",
              "    <tr>\n",
              "      <th>99999</th>\n",
              "      <td>8</td>\n",
              "      <td>25.0</td>\n",
              "      <td>1</td>\n",
              "      <td>1</td>\n",
              "      <td>0</td>\n",
              "      <td>1</td>\n",
              "      <td>39628.99</td>\n",
              "      <td>3359.415833</td>\n",
              "      <td>4.0</td>\n",
              "      <td>6.0</td>\n",
              "      <td>...</td>\n",
              "      <td>382.0</td>\n",
              "      <td>0</td>\n",
              "      <td>1</td>\n",
              "      <td>35.104023</td>\n",
              "      <td>24.028477</td>\n",
              "      <td>1</td>\n",
              "      <td>0</td>\n",
              "      <td>1</td>\n",
              "      <td>393.673696</td>\n",
              "      <td>Poor</td>\n",
              "    </tr>\n",
              "  </tbody>\n",
              "</table>\n",
              "<p>100000 rows × 43 columns</p>\n",
              "</div>\n",
              "      <button class=\"colab-df-convert\" onclick=\"convertToInteractive('df-6af96f7d-5a25-4ffe-b1f8-523c98ab87c5')\"\n",
              "              title=\"Convert this dataframe to an interactive table.\"\n",
              "              style=\"display:none;\">\n",
              "        \n",
              "  <svg xmlns=\"http://www.w3.org/2000/svg\" height=\"24px\"viewBox=\"0 0 24 24\"\n",
              "       width=\"24px\">\n",
              "    <path d=\"M0 0h24v24H0V0z\" fill=\"none\"/>\n",
              "    <path d=\"M18.56 5.44l.94 2.06.94-2.06 2.06-.94-2.06-.94-.94-2.06-.94 2.06-2.06.94zm-11 1L8.5 8.5l.94-2.06 2.06-.94-2.06-.94L8.5 2.5l-.94 2.06-2.06.94zm10 10l.94 2.06.94-2.06 2.06-.94-2.06-.94-.94-2.06-.94 2.06-2.06.94z\"/><path d=\"M17.41 7.96l-1.37-1.37c-.4-.4-.92-.59-1.43-.59-.52 0-1.04.2-1.43.59L10.3 9.45l-7.72 7.72c-.78.78-.78 2.05 0 2.83L4 21.41c.39.39.9.59 1.41.59.51 0 1.02-.2 1.41-.59l7.78-7.78 2.81-2.81c.8-.78.8-2.07 0-2.86zM5.41 20L4 18.59l7.72-7.72 1.47 1.35L5.41 20z\"/>\n",
              "  </svg>\n",
              "      </button>\n",
              "      \n",
              "  <style>\n",
              "    .colab-df-container {\n",
              "      display:flex;\n",
              "      flex-wrap:wrap;\n",
              "      gap: 12px;\n",
              "    }\n",
              "\n",
              "    .colab-df-convert {\n",
              "      background-color: #E8F0FE;\n",
              "      border: none;\n",
              "      border-radius: 50%;\n",
              "      cursor: pointer;\n",
              "      display: none;\n",
              "      fill: #1967D2;\n",
              "      height: 32px;\n",
              "      padding: 0 0 0 0;\n",
              "      width: 32px;\n",
              "    }\n",
              "\n",
              "    .colab-df-convert:hover {\n",
              "      background-color: #E2EBFA;\n",
              "      box-shadow: 0px 1px 2px rgba(60, 64, 67, 0.3), 0px 1px 3px 1px rgba(60, 64, 67, 0.15);\n",
              "      fill: #174EA6;\n",
              "    }\n",
              "\n",
              "    [theme=dark] .colab-df-convert {\n",
              "      background-color: #3B4455;\n",
              "      fill: #D2E3FC;\n",
              "    }\n",
              "\n",
              "    [theme=dark] .colab-df-convert:hover {\n",
              "      background-color: #434B5C;\n",
              "      box-shadow: 0px 1px 3px 1px rgba(0, 0, 0, 0.15);\n",
              "      filter: drop-shadow(0px 1px 2px rgba(0, 0, 0, 0.3));\n",
              "      fill: #FFFFFF;\n",
              "    }\n",
              "  </style>\n",
              "\n",
              "      <script>\n",
              "        const buttonEl =\n",
              "          document.querySelector('#df-6af96f7d-5a25-4ffe-b1f8-523c98ab87c5 button.colab-df-convert');\n",
              "        buttonEl.style.display =\n",
              "          google.colab.kernel.accessAllowed ? 'block' : 'none';\n",
              "\n",
              "        async function convertToInteractive(key) {\n",
              "          const element = document.querySelector('#df-6af96f7d-5a25-4ffe-b1f8-523c98ab87c5');\n",
              "          const dataTable =\n",
              "            await google.colab.kernel.invokeFunction('convertToInteractive',\n",
              "                                                     [key], {});\n",
              "          if (!dataTable) return;\n",
              "\n",
              "          const docLinkHtml = 'Like what you see? Visit the ' +\n",
              "            '<a target=\"_blank\" href=https://colab.research.google.com/notebooks/data_table.ipynb>data table notebook</a>'\n",
              "            + ' to learn more about interactive tables.';\n",
              "          element.innerHTML = '';\n",
              "          dataTable['output_type'] = 'display_data';\n",
              "          await google.colab.output.renderOutput(dataTable, element);\n",
              "          const docLink = document.createElement('div');\n",
              "          docLink.innerHTML = docLinkHtml;\n",
              "          element.appendChild(docLink);\n",
              "        }\n",
              "      </script>\n",
              "    </div>\n",
              "  </div>\n",
              "  "
            ]
          },
          "metadata": {},
          "execution_count": 12
        }
      ]
    },
    {
      "cell_type": "code",
      "source": [
        "#values of X,y \n",
        "X=data_encoded.drop(\"Credit_Score\",axis=1)\n",
        "y=data_encoded['Credit_Score']"
      ],
      "metadata": {
        "id": "AMcnZ8DVG_b4"
      },
      "execution_count": null,
      "outputs": []
    },
    {
      "cell_type": "code",
      "source": [
        "#Selecting the best 10 features \n",
        "def SelectFeatures(X,y):\n",
        "  test = SelectKBest(score_func=f_classif, k=10)\n",
        "  fit = test.fit(X,y)\n",
        "  features = fit.transform(X)\n",
        "  cols_idxs = test.get_support(indices=True)\n",
        "  z=X.iloc[:,cols_idxs]\n",
        "  return z\n"
      ],
      "metadata": {
        "id": "Rw4mB7hHF9Vj"
      },
      "execution_count": null,
      "outputs": []
    },
    {
      "cell_type": "code",
      "source": [
        "#Split the train and test subsets \n",
        "def split(X,y):\n",
        "  features=SelectFeatures(X,y)\n",
        "  skf=StratifiedKFold(n_splits=5, shuffle=True, random_state=42)\n",
        "  for train_index, test_index in skf.split(features, y):\n",
        "     X_train, X_test = features.iloc[train_index], features.iloc[test_index]\n",
        "     y_train, y_test = y.iloc[train_index], y.iloc[test_index]\n",
        "  return X_train,X_test,y_train,y_test"
      ],
      "metadata": {
        "id": "CXgHSg-zF9Ss"
      },
      "execution_count": null,
      "outputs": []
    },
    {
      "cell_type": "code",
      "source": [
        "#RandomForestClassifier model\n",
        "def RFClassifier(X,y):\n",
        "  X_train,X_test,y_train,y_test=split(X,y)\n",
        "  RF = RandomForestClassifier(n_estimators=200,criterion=\"entropy\",random_state=42)\n",
        "  RF.fit(X_train, y_train)\n",
        "  y_pred = RF.predict(X_test)\n",
        "  return y_pred,RF\n",
        "  "
      ],
      "metadata": {
        "id": "CzBTZ2OUF9NW"
      },
      "execution_count": null,
      "outputs": []
    },
    {
      "cell_type": "code",
      "source": [
        "X_train,X_test,y_train,y_test=split(X,y)\n",
        "X_train.shape"
      ],
      "metadata": {
        "colab": {
          "base_uri": "https://localhost:8080/"
        },
        "id": "E5qhcCnyL_FX",
        "outputId": "a4429627-d5e1-46ad-c4a6-b068d26f0a53"
      },
      "execution_count": null,
      "outputs": [
        {
          "output_type": "execute_result",
          "data": {
            "text/plain": [
              "(80000, 10)"
            ]
          },
          "metadata": {},
          "execution_count": 17
        }
      ]
    },
    {
      "cell_type": "code",
      "source": [
        "#apply the RandomForestClassifier and print the accuracy score and the f1-score \n",
        "X_train,X_test,y_train,y_test=split(X,y)\n",
        "y_pred,RF=RFClassifier(X,y)\n",
        "print('Accuracy Score: ', accuracy_score(y_test, y_pred))\n",
        "print('f1-Score: ', round(f1_score(y_test, y_pred,average=\"macro\"),4))\n"
      ],
      "metadata": {
        "colab": {
          "base_uri": "https://localhost:8080/"
        },
        "id": "DLhNc1t2lHfq",
        "outputId": "89f9f727-d41e-4087-bb99-9476cf789f07"
      },
      "execution_count": null,
      "outputs": [
        {
          "output_type": "stream",
          "name": "stdout",
          "text": [
            "Accuracy Score:  0.8091\n",
            "f1-Score:  0.8017\n"
          ]
        }
      ]
    },
    {
      "cell_type": "code",
      "source": [
        "#print classification report \n",
        "print(\"Classification report:\\n\\n\",classification_report(y_test, y_pred))"
      ],
      "metadata": {
        "colab": {
          "base_uri": "https://localhost:8080/"
        },
        "id": "Kr4NJXFhp351",
        "outputId": "d9289ffd-0921-42a8-8d0c-fe0777d342d0"
      },
      "execution_count": null,
      "outputs": [
        {
          "output_type": "stream",
          "name": "stdout",
          "text": [
            "Classification report:\n",
            "\n",
            "               precision    recall  f1-score   support\n",
            "\n",
            "        Good       0.77      0.78      0.78      3565\n",
            "        Poor       0.80      0.82      0.81      5800\n",
            "    Standard       0.83      0.81      0.82     10635\n",
            "\n",
            "    accuracy                           0.81     20000\n",
            "   macro avg       0.80      0.80      0.80     20000\n",
            "weighted avg       0.81      0.81      0.81     20000\n",
            "\n"
          ]
        }
      ]
    },
    {
      "cell_type": "code",
      "source": [
        "#Saving the model\n",
        "import joblib \n",
        "y_pred,RF=RFClassifier(X,y)\n",
        "joblib.dump(RF,\"mymodel.pkl\",compress=1)"
      ],
      "metadata": {
        "colab": {
          "base_uri": "https://localhost:8080/"
        },
        "id": "PFkrGAgKssWS",
        "outputId": "8aba44ba-687e-4239-db8a-543d61cdb606"
      },
      "execution_count": null,
      "outputs": [
        {
          "output_type": "execute_result",
          "data": {
            "text/plain": [
              "['mymodel.pkl']"
            ]
          },
          "metadata": {},
          "execution_count": 20
        }
      ]
    },
    {
      "cell_type": "markdown",
      "source": [
        "Some models that we didn't use for multiple reasons, either because of their low accuracy or because they are computationally intensive and slow "
      ],
      "metadata": {
        "id": "yf4H_GJp6mi3"
      }
    },
    {
      "cell_type": "code",
      "source": [
        "#GradientBoostingClassifier (good but slower than the Random forest classifier)\n",
        "from sklearn.ensemble import GradientBoostingClassifier\n",
        "X_train,X_test,y_train,y_test=split(X,y)\n",
        "y_predict,RF=RFClassifier(X,y)\n",
        "Boosting = GradientBoostingClassifier(init=RF,random_state=42)\n",
        "Boosting.fit(X_train, y_train)\n",
        "y_pred = Boosting.predict(X_test)\n",
        "print('Accuracy Score: ', accuracy_score(y_test, y_pred))\n",
        "print('f1 Score:',f1_score(y_test, y_pred, average=\"macro\"))"
      ],
      "metadata": {
        "colab": {
          "base_uri": "https://localhost:8080/"
        },
        "id": "ZOBxBtq7VuXh",
        "outputId": "cebf282d-15b6-4f2b-8a8d-727d917f9cbe"
      },
      "execution_count": null,
      "outputs": [
        {
          "output_type": "stream",
          "name": "stdout",
          "text": [
            "Accuracy Score:  0.80915\n",
            "f1 Score: 0.8015140383390585\n"
          ]
        }
      ]
    },
    {
      "cell_type": "code",
      "source": [
        "#Extra tree classifier (good but our model randomforest classifier has a little higher accuracy and f1 score )\n",
        "from sklearn.ensemble import ExtraTreesClassifier\n",
        "X_train,X_test,y_train,y_test=split(X,y)\n",
        "ExtraTrees = ExtraTreesClassifier(n_estimators=200,criterion=\"entropy\", random_state=42)\n",
        "ExtraTrees.fit(X_train, y_train)\n",
        "y_pred=ExtraTrees.predict(X_test)\n",
        "print(\"Accuracy score:\",accuracy_score(y_test, y_pred))\n",
        "print('f1 Score: ', f1_score(y_test, y_pred,average=\"macro\"))"
      ],
      "metadata": {
        "colab": {
          "base_uri": "https://localhost:8080/"
        },
        "id": "ybKzqdxKG1wC",
        "outputId": "a1743d51-40a7-46a3-c3f4-f82ee4615bc2"
      },
      "execution_count": null,
      "outputs": [
        {
          "output_type": "stream",
          "name": "stdout",
          "text": [
            "Accuracy score: 0.8005\n",
            "f1 Score:  0.7933412726817329\n"
          ]
        }
      ]
    },
    {
      "cell_type": "code",
      "source": [
        "#Logistic regression (very low accuracy)\n",
        "from sklearn.linear_model import LogisticRegression\n",
        "X_train,X_test,y_train,y_test=split(X,y)\n",
        "Logistic_Regression = LogisticRegression(max_iter=500,solver='saga', random_state=42)\n",
        "Logistic_Regression.fit(X_train, y_train)\n",
        "y_pred = Logistic_Regression.predict(X_test)\n",
        "print('Accuracy Score: ', accuracy_score(y_test, y_pred))\n",
        "print('f1 Score: ', f1_score(y_test, y_pred,average=\"macro\"))"
      ],
      "metadata": {
        "colab": {
          "base_uri": "https://localhost:8080/"
        },
        "id": "HNe86_9IKlRd",
        "outputId": "8df40f87-721b-455e-9879-03efb84ece6a"
      },
      "execution_count": null,
      "outputs": [
        {
          "output_type": "stream",
          "name": "stderr",
          "text": [
            "/usr/local/lib/python3.9/dist-packages/sklearn/linear_model/_sag.py:350: ConvergenceWarning: The max_iter was reached which means the coef_ did not converge\n",
            "  warnings.warn(\n"
          ]
        },
        {
          "output_type": "stream",
          "name": "stdout",
          "text": [
            "Accuracy Score:  0.6039\n",
            "f1 Score:  0.5472891431475754\n"
          ]
        }
      ]
    },
    {
      "cell_type": "code",
      "source": [
        "#XGBClassifier (good but slower than the Random forest classifier)  \n",
        "from xgboost import XGBClassifier\n",
        "mapping = {\"Good\": 0, \"Poor\": 1, \"Standard\": 2}\n",
        "X_train,X_test,y_train,y_test=split(X,y)\n",
        "# use the map() function to apply the mapping to the series\n",
        "y_train1= y_train.map(mapping)\n",
        "y_test1=y_test.map(mapping)\n",
        "XGBC = XGBClassifier(n_estimators=100,max_depth=50,random_state=42)\n",
        "XGBC.fit(X_train, y_train1)\n",
        "y_pred = XGBC.predict(X_test)\n",
        "print(\"Accuracy:\", accuracy_score(y_test1, y_pred))\n",
        "print('f1 Score: ', f1_score(y_test1, y_pred,average=\"macro\"))"
      ],
      "metadata": {
        "colab": {
          "base_uri": "https://localhost:8080/"
        },
        "id": "KH-b_z0bQmyf",
        "outputId": "fb5b826e-b26e-4b7e-b964-fa9a54a0b4cd"
      },
      "execution_count": null,
      "outputs": [
        {
          "output_type": "stream",
          "name": "stdout",
          "text": [
            "Accuracy: 0.809\n",
            "f1 Score:  0.8016111289761719\n"
          ]
        }
      ]
    },
    {
      "cell_type": "code",
      "source": [
        "#AdaBoost Classifier (low accuracy)\n",
        "from sklearn.ensemble import AdaBoostClassifier\n",
        "AdaBoost  = AdaBoostClassifier(n_estimators=200, random_state=42)\n",
        "X_train,X_test,y_train,y_test=split(X,y)\n",
        "AdaBoost.fit(X_train, y_train)\n",
        "y_pred=AdaBoost.predict(X_test)\n",
        "print(\"Accuracy:\", accuracy_score(y_test, y_pred))\n",
        "print('f1 Score: ', f1_score(y_test, y_pred,average=\"macro\"))"
      ],
      "metadata": {
        "colab": {
          "base_uri": "https://localhost:8080/"
        },
        "id": "ypFbCSSHT8RC",
        "outputId": "3ff8b7f2-58f2-40ca-fd47-5881c0ca3602"
      },
      "execution_count": null,
      "outputs": [
        {
          "output_type": "stream",
          "name": "stdout",
          "text": [
            "Accuracy: 0.6635\n",
            "f1 Score:  0.6432422108618241\n"
          ]
        }
      ]
    },
    {
      "cell_type": "code",
      "source": [
        "#KNeighborsClassifier (good but our model randomforest classifier has a little higher accuracy and f1 score )\n",
        "from sklearn.neighbors import KNeighborsClassifier\n",
        "KNN = KNeighborsClassifier(n_neighbors=5)\n",
        "X_train,X_test,y_train,y_test=split(X,y)\n",
        "KNN.fit(X_train, y_train)\n",
        "y_pred = KNN.predict(X_test)\n",
        "print(\"Accuracy:\", accuracy_score(y_test, y_pred))\n",
        "print('f1 Score:',f1_score(y_test, y_pred, average=\"macro\"))"
      ],
      "metadata": {
        "colab": {
          "base_uri": "https://localhost:8080/"
        },
        "id": "Ckz23e-cUwn3",
        "outputId": "db4bf382-830a-4ea2-b4ea-9a1abfc9edde"
      },
      "execution_count": null,
      "outputs": [
        {
          "output_type": "stream",
          "name": "stdout",
          "text": [
            "Accuracy: 0.80295\n",
            "f1 Score: 0.796891766316011\n"
          ]
        }
      ]
    }
  ]
}